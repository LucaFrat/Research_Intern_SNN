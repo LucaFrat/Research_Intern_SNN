{
 "cells": [
  {
   "cell_type": "code",
   "execution_count": 1,
   "metadata": {},
   "outputs": [],
   "source": [
    "import numpy as np\n",
    "import matplotlib.pyplot as plt"
   ]
  },
  {
   "cell_type": "code",
   "execution_count": 99,
   "metadata": {},
   "outputs": [],
   "source": [
    "# Load Data\n",
    "data_metrics = np.load('Outputs/T1_metrics.npy')\n",
    "data_Spks = np.load('Outputs/T1_Spks.npy', allow_pickle=True)\n",
    "data_Spks_tot = np.load('Outputs/T1_Spks_tot.npy')\n",
    "data_Mems = np.load('Outputs/T1_Mems.npy', allow_pickle=True)\n",
    "data_Mems_tot = np.load('Outputs/T1_Mems_tot.npy')\n",
    "\n",
    "# Compute the Sum over the 3 Layers of the Spikes and Mem Potential\n",
    "data_Spks_tot_tot = np.sum(data_Spks_tot, axis=1)\n",
    "data_Mems_tot_tot = np.sum(data_Mems_tot, axis=1)"
   ]
  },
  {
   "cell_type": "code",
   "execution_count": 105,
   "metadata": {},
   "outputs": [
    {
     "name": "stdout",
     "output_type": "stream",
     "text": [
      "[0.12194293 0.11871603]\n"
     ]
    }
   ],
   "source": [
    "# Prints\n",
    "# print(np.array(data_Spks.item().get('s1')[0]))\n",
    "# print(data_Spks_tot)\n",
    "print(data_metrics[0][2])"
   ]
  },
  {
   "cell_type": "code",
   "execution_count": null,
   "metadata": {},
   "outputs": [],
   "source": [
    "# Plots\n",
    "epochs = range(0, len(data_metrics[0][0]))\n",
    "\n",
    "fig, axes = plt.subplots(1,2, figsize=(10,3))\n",
    "\n",
    "axes[0].plot(epochs, data_metrics[0][2], 'g', label='Train Accuracy')\n",
    "axes[0].plot(epochs, data_metrics[0][3], 'b', label='Test Accuracy')\n",
    "axes[1].plot(epochs, data_Spks_tot_tot, 'r', label='Tot: Sum Layers')\n",
    "axes[1].plot(epochs, data_Spks_tot[:,2], 'y', label='Prob Spks Layer 3')\n",
    "axes[1].plot(epochs, data_Spks_tot[:,0], 'g', label='Prob Spks Layer 1')\n",
    "axes[1].plot(epochs, data_Spks_tot[:,1], 'b', label='Prob Spks Layer 2')\n",
    "\n",
    "axes[0].set_title('Traininig-Test Accuracy')\n",
    "axes[1].set_title('Spike Prob')\n",
    "axes[0].set_xlabel('Epochs')\n",
    "axes[0].set_ylabel('Accuracy')\n",
    "axes[1].set_xlabel('Epochs')\n",
    "axes[1].set_ylabel('Spike Prob')\n",
    "\n",
    "axes[0].legend(fontsize=8)\n",
    "axes[1].legend(fontsize=8)\n",
    "plt.show()"
   ]
  }
 ],
 "metadata": {
  "kernelspec": {
   "display_name": "isnn",
   "language": "python",
   "name": "python3"
  },
  "language_info": {
   "codemirror_mode": {
    "name": "ipython",
    "version": 3
   },
   "file_extension": ".py",
   "mimetype": "text/x-python",
   "name": "python",
   "nbconvert_exporter": "python",
   "pygments_lexer": "ipython3",
   "version": "3.11.4"
  }
 },
 "nbformat": 4,
 "nbformat_minor": 2
}
