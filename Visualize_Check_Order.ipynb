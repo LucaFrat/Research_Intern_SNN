{
 "cells": [
  {
   "cell_type": "markdown",
   "metadata": {},
   "source": [
    "Check whether the order with which the trainng functions have been called in the main function influences the learning"
   ]
  },
  {
   "cell_type": "code",
   "execution_count": null,
   "metadata": {},
   "outputs": [],
   "source": [
    "import numpy as np\n",
    "import matplotlib.pyplot as plt\n",
    "import constants as c"
   ]
  },
  {
   "cell_type": "code",
   "execution_count": null,
   "metadata": {},
   "outputs": [],
   "source": [
    "# Load Data\n",
    "Acc_Atan_alone_0 = np.load('Outs_Check_Training_Order/Acc_Atan_alone_0.npy')\n",
    "Acc_Atan_alone_1 = np.load('Outs_Check_Training_Order/Acc_Atan_alone_1.npy')\n",
    "Acc_Tri_alone_0 = np.load('Outs_Check_Training_Order/Acc_Triangular_alone_0.npy')\n",
    "Acc_Tri_alone_1 = np.load('Outs_Check_Training_Order/Acc_Triangular_alone_1.npy')\n",
    "\n",
    "Spks_tot_Atan_alone_0 = np.sum(np.load('Outs_Check_Training_Order/Spks_tot_Atan_alone_0.npy'), axis=1)\n",
    "Spks_tot_Atan_alone_1 = np.sum(np.load('Outs_Check_Training_Order/Spks_tot_Atan_alone_1.npy'), axis=1)\n",
    "Spks_tot_Tri_alone_0 = np.sum(np.load('Outs_Check_Training_Order/Spks_tot_Triangular_alone_0.npy'), axis=1)\n",
    "Spks_tot_Tri_alone_1 = np.sum(np.load('Outs_Check_Training_Order/Spks_tot_Triangular_alone_1.npy'), axis=1)\n",
    "\n",
    "# Acc_Atan_first = np.load('Outs_Check_Training_Order/')\n",
    "# Acc_Tri_second = np.load('Outs_Check_Training_Order/')\n",
    "# Acc_Tri_first = np.load('Outs_Check_Training_Order/')\n",
    "# Acc_Atan_second = np.load('Outs_Check_Training_Order/')\n",
    "\n",
    "# Spks_tot_Atan_first = np.load('Outs_Check_Training_Order/')\n",
    "# Spks_tot_Tri_second = np.load('Outs_Check_Training_Order/')\n",
    "# Spks_tot_Tri_first = np.load('Outs_Check_Training_Order/')\n",
    "# Spks_tot_Atan_second = np.load('Outs_Check_Training_Order/')"
   ]
  }
 ],
 "metadata": {
  "kernelspec": {
   "display_name": "isnn",
   "language": "python",
   "name": "python3"
  },
  "language_info": {
   "codemirror_mode": {
    "name": "ipython",
    "version": 3
   },
   "file_extension": ".py",
   "mimetype": "text/x-python",
   "name": "python",
   "nbconvert_exporter": "python",
   "pygments_lexer": "ipython3",
   "version": "3.11.4"
  }
 },
 "nbformat": 4,
 "nbformat_minor": 2
}
